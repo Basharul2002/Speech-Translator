{
 "cells": [
  {
   "cell_type": "code",
   "execution_count": 2,
   "metadata": {},
   "outputs": [],
   "source": [
    "import speech_recognition as sr\n",
    "from gtts import gTTS\n",
    "from googletrans import Translator\n",
    "import os"
   ]
  },
  {
   "cell_type": "code",
   "execution_count": 15,
   "metadata": {},
   "outputs": [],
   "source": [
    "# Function to recognize speech and return the text\n",
    "def recognize_speech(language=\"en\"):\n",
    "    recognizer = sr.Recognizer()\n",
    "    mic = sr.Microphone()\n",
    "\n",
    "    print(\"Please speak...\")\n",
    "    with mic as source:\n",
    "        recognizer.adjust_for_ambient_noise(source)  # Adjust for ambient noise\n",
    "        audio = recognizer.listen(source)\n",
    "\n",
    "    try:\n",
    "        if language == \"en\":\n",
    "            recognized_text = recognizer.recognize_google(audio, language='en-US')\n",
    "        elif language == \"bn\":\n",
    "            recognized_text = recognizer.recognize_google(audio, language='bn-BD')\n",
    "        elif language == \"ru\":\n",
    "            recognized_text = recognizer.recognize_google(audio, language='ru-RU')\n",
    "        else:\n",
    "            print(\"Unsupported language!\")\n",
    "            return None\n",
    "        print(f\"Recognized Text: {recognized_text}\")\n",
    "        return recognized_text\n",
    "    except sr.UnknownValueError:\n",
    "        print(\"Sorry, I could not understand the audio.\")\n",
    "        return None\n",
    "    except sr.RequestError as e:\n",
    "        print(f\"Could not request results from Google Speech Recognition service; {e}\")\n",
    "        return None"
   ]
  },
  {
   "cell_type": "code",
   "execution_count": 16,
   "metadata": {},
   "outputs": [],
   "source": [
    "\n",
    "# Function to translate text to the desired language\n",
    "def translate_text(text, target_language):\n",
    "    translator = Translator()\n",
    "    translated = translator.translate(text, dest=target_language)\n",
    "    return translated.text"
   ]
  },
  {
   "cell_type": "code",
   "execution_count": 18,
   "metadata": {},
   "outputs": [],
   "source": [
    "# Function to convert text to speech\n",
    "def speak_text(text):\n",
    "    tts = gTTS(text=text, lang='bn')  # Change lang as needed for translation\n",
    "    tts.save(\"output.mp3\")\n",
    "    os.system(\"start output.mp3\")  # Use \"afplay output.mp3\" on macOS or \"xdg-open output.mp3\" on Linux\n"
   ]
  },
  {
   "cell_type": "code",
   "execution_count": 21,
   "metadata": {},
   "outputs": [],
   "source": [
    "\n",
    "# Main function to run the process\n",
    "print(\"Select the language for speech recognition:\")\n",
    "print(\"1. English (en)\")\n",
    "print(\"2. Bangla (bn)\")\n",
    "print(\"3. Russian (ru)\")\n",
    "lang_choice = input(\"Enter choice (en, bn, ru): \")\n",
    "\n",
    "recognized_text = recognize_speech(language=lang_choice)\n",
    "\n",
    "if recognized_text:\n",
    "    print(\"\\nSelect the target language for translation:\")\n",
    "    print(\"1. English (en)\")\n",
    "    print(\"2. Bangla (bn)\")\n",
    "    target_lang_choice = input(\"Enter choice (en, bn): \")\n",
    "\n",
    "    target_language = 'en' if target_lang_choice == 'en' else 'bn'\n",
    "    translated_text = translate_text(recognized_text, target_language)\n",
    "\n",
    "    print(f\"Translated Text: {translated_text}\")\n",
    "\n",
    "    # Optionally, speak the translated text\n",
    "    speak = input(\"Do you want to hear the translation? (yes/no): \")\n",
    "    if speak.lower() == 'yes':\n",
    "        speak_text(translated_text)"
   ]
  }
 ],
 "metadata": {
  "kernelspec": {
   "display_name": "Python 3",
   "language": "python",
   "name": "python3"
  },
  "language_info": {
   "codemirror_mode": {
    "name": "ipython",
    "version": 3
   },
   "file_extension": ".py",
   "mimetype": "text/x-python",
   "name": "python",
   "nbconvert_exporter": "python",
   "pygments_lexer": "ipython3",
   "version": "3.12.3"
  }
 },
 "nbformat": 4,
 "nbformat_minor": 2
}
